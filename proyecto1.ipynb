{
 "cells": [
  {
   "cell_type": "code",
   "execution_count": 14,
   "metadata": {},
   "outputs": [
    {
     "ename": "NameError",
     "evalue": "name 'jl' is not defined",
     "output_type": "error",
     "traceback": [
      "\u001b[1;31m---------------------------------------------------------------------------\u001b[0m",
      "\u001b[1;31mNameError\u001b[0m                                 Traceback (most recent call last)",
      "\u001b[1;32m<ipython-input-14-1bb5f1c26df6>\u001b[0m in \u001b[0;36m<module>\u001b[1;34m()\u001b[0m\n\u001b[0;32m     12\u001b[0m \u001b[0mim1b\u001b[0m \u001b[1;33m=\u001b[0m \u001b[0mim1\u001b[0m\u001b[1;33m[\u001b[0m\u001b[1;33m:\u001b[0m\u001b[1;33m,\u001b[0m\u001b[1;33m:\u001b[0m\u001b[1;33m,\u001b[0m\u001b[1;36m2\u001b[0m\u001b[1;33m]\u001b[0m\u001b[1;33m\u001b[0m\u001b[0m\n\u001b[0;32m     13\u001b[0m \u001b[1;33m\u001b[0m\u001b[0m\n\u001b[1;32m---> 14\u001b[1;33m \u001b[0my\u001b[0m\u001b[1;33m,\u001b[0m \u001b[0mcb\u001b[0m\u001b[1;33m,\u001b[0m \u001b[0mcr\u001b[0m \u001b[1;33m=\u001b[0m \u001b[0mjl\u001b[0m\u001b[1;33m.\u001b[0m\u001b[0mrgb2ycbcr\u001b[0m\u001b[1;33m(\u001b[0m\u001b[0mim1\u001b[0m\u001b[1;33m)\u001b[0m\u001b[1;33m\u001b[0m\u001b[0m\n\u001b[0m\u001b[0;32m     15\u001b[0m \u001b[1;31m#plt.figure(1), plt.imshow(im1g,'gray')\u001b[0m\u001b[1;33m\u001b[0m\u001b[1;33m\u001b[0m\u001b[0m\n\u001b[0;32m     16\u001b[0m \u001b[1;31m#print(im1)\u001b[0m\u001b[1;33m\u001b[0m\u001b[1;33m\u001b[0m\u001b[0m\n",
      "\u001b[1;31mNameError\u001b[0m: name 'jl' is not defined"
     ]
    },
    {
     "data": {
      "text/plain": [
       "<matplotlib.figure.Figure at 0x2c381218588>"
      ]
     },
     "metadata": {},
     "output_type": "display_data"
    }
   ],
   "source": [
    "%matplotlib inline\n",
    "import matplotlib.pylab as plt\n",
    "from mpl_toolkits.mplot3d import axes3d\n",
    "import numpy as np\n",
    "from scipy import signal, misc\n",
    "plt.figure(figsize=(10, 5))\n",
    "im1 = plt.imread('frames/frame0628.png')\n",
    "#plt.imshow(im1)\n",
    "\n",
    "#im1r = im1[:,:,0]\n",
    "#im1g = im1[:,:,1]\n",
    "#im1b = im1[:,:,2]\n",
    "\n",
    "#plt.figure(1), plt.imshow(im1g,'gray')\n",
    "#print(im1)\n",
    "\n",
    "dogo_color = plt.imread('frames/frame0628.png')\n",
    "Y = np.dot(dogo_color, [0.299, 0.587, 0.114])\n",
    "plt.matshow(Y, cmap=plt.cm.Greys_r); plt.axis('off'); plt.title('Y')\n",
    "C_b = np.dot(dogo_color, [-0.168736, -0.3312, 0.5])\n",
    "plt.matshow(C_b, cmap=plt.cm.Greys_r); plt.axis('off'); plt.title('Cb')\n",
    "C_r = np.dot(dogo_color, [0.5, -0.4186, -0.0813])\n",
    "plt.matshow(C_r, cmap=plt.cm.Greys_r); plt.axis('off'); plt.title('Cr');"
   ]
  },
  {
   "cell_type": "code",
   "execution_count": null,
   "metadata": {},
   "outputs": [],
   "source": []
  }
 ],
 "metadata": {
  "kernelspec": {
   "display_name": "Python 3",
   "language": "python",
   "name": "python3"
  },
  "language_info": {
   "codemirror_mode": {
    "name": "ipython",
    "version": 3
   },
   "file_extension": ".py",
   "mimetype": "text/x-python",
   "name": "python",
   "nbconvert_exporter": "python",
   "pygments_lexer": "ipython3",
   "version": "3.6.4"
  }
 },
 "nbformat": 4,
 "nbformat_minor": 2
}
